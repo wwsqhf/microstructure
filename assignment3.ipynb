{
 "cells": [
  {
   "cell_type": "code",
   "execution_count": 1,
   "id": "played-wallet",
   "metadata": {},
   "outputs": [],
   "source": [
    "import pandas as pd\n",
    "import numpy as np\n",
    "import matplotlib.pyplot as plt\n",
    "import glob\n",
    "from scipy.optimize import curve_fit"
   ]
  },
  {
   "cell_type": "code",
   "execution_count": 2,
   "id": "handed-longer",
   "metadata": {},
   "outputs": [],
   "source": [
    "def getfiles(filepath):\n",
    "    dfs = []\n",
    "    for i in (glob.glob(filepath)):\n",
    "        df = pd.read_csv(i, header=0)\n",
    "        dfs.append(df)\n",
    "    return pd.concat(dfs, axis=0, ignore_index=True).drop(columns='Unnamed: 0')"
   ]
  },
  {
   "cell_type": "markdown",
   "id": "harmful-institute",
   "metadata": {},
   "source": [
    "### Question 2"
   ]
  },
  {
   "cell_type": "code",
   "execution_count": 3,
   "id": "adequate-latter",
   "metadata": {},
   "outputs": [],
   "source": [
    "#get trade data for SH600519\n",
    "df_t19 = getfiles('SH600519/trade*.csv')"
   ]
  },
  {
   "cell_type": "markdown",
   "id": "divine-caution",
   "metadata": {},
   "source": [
    "Calibrate $\\lambda$ by grouping trades into 5 minute intervals and getting the average frequency of number of trades per interval "
   ]
  },
  {
   "cell_type": "code",
   "execution_count": 4,
   "id": "valid-notion",
   "metadata": {},
   "outputs": [
    {
     "name": "stdout",
     "output_type": "stream",
     "text": [
      "lambda_tau:  235.41086040168608\n",
      "lambda:  47.082172080337216\n"
     ]
    }
   ],
   "source": [
    "#convert date and time to datetime object\n",
    "df_t19['timestamp'] = pd.to_datetime((df_t19['date'].astype(str) + df_t19['time'].astype(str)), format= '%Y%m%d%H%M%f')\n",
    "#group and get distribution of number of trades over the time period\n",
    "group = df_t19.groupby(pd.Grouper(key='timestamp', freq='5Min')).count()['ntrade']\n",
    "num_trades = group.value_counts() / group.shape[0]\n",
    "#plot and get variables\n",
    "#num_trades[1:].sort_index().plot(figsize=[10,5])\n",
    "lambda_tau = group[group > 0].mean()\n",
    "print('lambda_tau: ' , lambda_tau )\n",
    "print('lambda: ', lambda_tau/5 )"
   ]
  },
  {
   "cell_type": "markdown",
   "id": "inside-lawrence",
   "metadata": {},
   "source": [
    "Calibrate $\\beta$ by normalizing the volumes and taking the reciprical of the average normalized volumes"
   ]
  },
  {
   "cell_type": "code",
   "execution_count": 5,
   "id": "realistic-lighter",
   "metadata": {},
   "outputs": [
    {
     "name": "stdout",
     "output_type": "stream",
     "text": [
      "beta:  0.9999999999999998\n"
     ]
    }
   ],
   "source": [
    "nml = df_t19['ntrade'] / df_t19['ntrade'].mean()\n",
    "size = nml.value_counts() / nml.sum()\n",
    "#size.sort_index().cumsum().plot(figsize=[10,5])\n",
    "print('beta: ', 1/nml.mean())"
   ]
  },
  {
   "cell_type": "markdown",
   "id": "infrared-framing",
   "metadata": {},
   "source": [
    "Calibrate p by obtaining the probability of a buy or a sell based on column BS"
   ]
  },
  {
   "cell_type": "code",
   "execution_count": 6,
   "id": "recreational-charlotte",
   "metadata": {},
   "outputs": [
    {
     "data": {
      "text/html": [
       "<div>\n",
       "<style scoped>\n",
       "    .dataframe tbody tr th:only-of-type {\n",
       "        vertical-align: middle;\n",
       "    }\n",
       "\n",
       "    .dataframe tbody tr th {\n",
       "        vertical-align: top;\n",
       "    }\n",
       "\n",
       "    .dataframe thead th {\n",
       "        text-align: right;\n",
       "    }\n",
       "</style>\n",
       "<table border=\"1\" class=\"dataframe\">\n",
       "  <thead>\n",
       "    <tr style=\"text-align: right;\">\n",
       "      <th></th>\n",
       "      <th>S</th>\n",
       "      <th>B</th>\n",
       "      <th></th>\n",
       "    </tr>\n",
       "  </thead>\n",
       "  <tbody>\n",
       "    <tr>\n",
       "      <th>BS</th>\n",
       "      <td>0.507318</td>\n",
       "      <td>0.491282</td>\n",
       "      <td>0.0014</td>\n",
       "    </tr>\n",
       "  </tbody>\n",
       "</table>\n",
       "</div>"
      ],
      "text/plain": [
       "           S         B        \n",
       "BS  0.507318  0.491282  0.0014"
      ]
     },
     "execution_count": 6,
     "metadata": {},
     "output_type": "execute_result"
    }
   ],
   "source": [
    "pd.DataFrame(df_t19['BS'].value_counts()/df_t19.shape[0]).T"
   ]
  },
  {
   "cell_type": "markdown",
   "id": "cooked-competition",
   "metadata": {},
   "source": [
    "Probability of a Buy is 49.1% and of a Sell is 50.7%"
   ]
  },
  {
   "cell_type": "markdown",
   "id": "acquired-stand",
   "metadata": {},
   "source": [
    "Calibrate $\\rho$ as equal to the pearson correlation of the sign B or S"
   ]
  },
  {
   "cell_type": "code",
   "execution_count": 7,
   "id": "sixth-verification",
   "metadata": {},
   "outputs": [],
   "source": [
    "df_t19['sign'] = np.where(df_t19['BS'] == 'B', 1, np.where(df_t19['BS'] == 'S', -1, 0))"
   ]
  },
  {
   "cell_type": "code",
   "execution_count": 8,
   "id": "separate-citation",
   "metadata": {},
   "outputs": [
    {
     "name": "stdout",
     "output_type": "stream",
     "text": [
      "rho:  0.561\n"
     ]
    }
   ],
   "source": [
    "print('rho: ', df_t19['sign'].autocorr().round(3))"
   ]
  },
  {
   "cell_type": "markdown",
   "id": "occupational-proposal",
   "metadata": {},
   "source": [
    "### Question 3"
   ]
  },
  {
   "cell_type": "code",
   "execution_count": 9,
   "id": "smart-belief",
   "metadata": {},
   "outputs": [],
   "source": [
    "df_t19 = getfiles('SH600519/trade*.csv')\n",
    "df_t98 = getfiles('SH601398/trade*.csv')\n",
    "df_q19 = getfiles('SH600519/quote*.csv')\n",
    "df_q98 = getfiles('SH601398/quote*.csv')"
   ]
  },
  {
   "cell_type": "markdown",
   "id": "elementary-mailing",
   "metadata": {},
   "source": [
    "Predict the sign by first calculating the midquote as average of bid and ask prices. Then merge the data on timestamp and price. Make prediction based on if Midprice is over or under the actual price"
   ]
  },
  {
   "cell_type": "code",
   "execution_count": 10,
   "id": "exact-adjustment",
   "metadata": {},
   "outputs": [],
   "source": [
    "def predict_sign(trade_df, quote_df):\n",
    "    #make timestamps\n",
    "    trade_df['timestamp'] = pd.to_datetime((trade_df['date'].astype(str) + trade_df['time'].astype(str).str.zfill(4)), format= '%Y%m%d%H%M%f')\n",
    "    quote_df['timestamp'] = pd.to_datetime((quote_df['date'].astype(str) + quote_df['time'].astype(str).str.zfill(4)), format= '%Y%m%d%H%M%f')\n",
    "    #calc midquote\n",
    "    quote_df['Midquote'] = (quote_df['AskPrice1'] + quote_df['BidPrice1']) / 2\n",
    "    \n",
    "    #merge on price and timestamp\n",
    "    merged_df = pd.merge(trade_df[['timestamp', 'price', 'sign', 'ntrade', 'BS', 'date', 'time']], quote_df[['timestamp', 'price', 'Midquote']], on=['timestamp','price'])\n",
    "    #make the prediction\n",
    "    merged_df['sign'] = np.where(merged_df['price'] < merged_df['Midquote'], -1, \n",
    "                                 np.where(merged_df['price'] > merged_df['Midquote'], 1, 0))\n",
    "    #get accuracy\n",
    "    merged_df['Pred_Acc'] = np.where(((merged_df['sign'] == -1) & (merged_df['BS'] == 'S')) | ((merged_df['sign'] == 1) & (merged_df['BS'] == 'B')), 1, 0)\n",
    "    \n",
    "    return merged_df"
   ]
  },
  {
   "cell_type": "code",
   "execution_count": 11,
   "id": "tribal-catholic",
   "metadata": {},
   "outputs": [],
   "source": [
    "merged_19 = predict_sign(df_t19, df_q19)\n",
    "merged_98 = predict_sign(df_t98, df_q98)"
   ]
  },
  {
   "cell_type": "code",
   "execution_count": 12,
   "id": "worthy-nicholas",
   "metadata": {},
   "outputs": [
    {
     "name": "stdout",
     "output_type": "stream",
     "text": [
      "Accuracy of prediction for SH600519:  91.65%\n",
      "Accuracy of prediction for SH601398:  97.05%\n",
      "Overall accuracy:  94.59%\n"
     ]
    }
   ],
   "source": [
    "print('Accuracy of prediction for SH600519: ', '{:.2%}'.format(merged_19['Pred_Acc'].sum()/merged_19['Pred_Acc'].count()))\n",
    "print('Accuracy of prediction for SH601398: ', '{:.2%}'.format(merged_98['Pred_Acc'].sum()/merged_98['Pred_Acc'].count()))\n",
    "print('Overall accuracy: ', '{:.2%}'.format((merged_19['Pred_Acc'].sum() + merged_98['Pred_Acc'].sum()) / (merged_19['Pred_Acc'].count() + merged_98['Pred_Acc'].count())))"
   ]
  },
  {
   "cell_type": "markdown",
   "id": "collected-tribute",
   "metadata": {},
   "source": [
    "### Question 4"
   ]
  },
  {
   "cell_type": "markdown",
   "id": "sapphire-convert",
   "metadata": {},
   "source": [
    "Create a function to take in different intervals of time $i$ and calculate the IMB based on the midquote function and final datasets above. The data is then filtered by its sign (1, -1) to calculate the positive and negative parameters. Gamma is derived from fitting a curve to the equation and taking the optimal value to minimize the sum of squared residuals"
   ]
  },
  {
   "cell_type": "code",
   "execution_count": 13,
   "id": "minute-encoding",
   "metadata": {},
   "outputs": [],
   "source": [
    "def betagamma(i, df):\n",
    "    new_df = df.copy()\n",
    "    new_df['time'] = new_df['time'].astype(str)\n",
    "    new_df['time'] = pd.to_numeric(new_df['time'].str[:-5])\n",
    "    new_df['nml'] = new_df['ntrade']/ new_df['ntrade'].mean()\n",
    "    new_df['IMB'] = new_df['sign'] * new_df['nml']\n",
    "    \n",
    "    ret = new_df[['date','time','Midquote', 'timestamp']]\n",
    "    ret = ret.groupby(['date',pd.cut(ret['time'], np.arange(925, 1500+i, i),right=False, include_lowest=True)]).Midquote.apply(lambda x:(x.tail(1).values[0]-x.head(1).values[0])/x.head(1).values[0]).dropna()\n",
    "    \n",
    "    size = new_df[['date', 'time', 'IMB', 'nml']]\n",
    "    size = size.groupby(['date',pd.cut(size['time'], np.arange(925, 1500+i, i), right=False, include_lowest=True)]).agg({'IMB': 'sum', 'nml':['size', 'sum']}).dropna()\n",
    "    \n",
    "    df_concat = pd.concat([size, ret], axis=1)\n",
    "    df_concat.columns = ['IMB', 'Size', 'Sum', 'Ret']\n",
    "    df_concat['Sign'] = np.where(df_concat['IMB'] > 0, 1, -1)\n",
    "    stdev = df_concat['Ret'].std()\n",
    "    \n",
    "    pos_beta = 1 / (df_concat[df_concat['Sign'] == 1]['Sum'].sum() / df_concat[df_concat['Sign'] == 1]['Size'].sum())\n",
    "    neg_beta = 1 / (df_concat[df_concat['Sign'] == -1]['Sum'].sum() / df_concat[df_concat['Sign'] == -1]['Size'].sum())\n",
    "    \n",
    "    def f_pos(IMB,gamma):\n",
    "        return (pos_beta*stdev*(abs(IMB)**gamma))\n",
    "    \n",
    "    def f_neg(IMB,gamma):\n",
    "        return (neg_beta*stdev*(abs(IMB)**gamma))\n",
    "    \n",
    "    df_concat.dropna(inplace=True)\n",
    "    pos_gamma = curve_fit(f_pos, df_concat[df_concat['Sign'] == 1]['IMB'], df_concat[df_concat['Sign'] == 1]['Ret'])\n",
    "    neg_gamma = curve_fit(f_neg, df_concat[df_concat['Sign'] == -1]['IMB'], df_concat[df_concat['Sign'] == -1]['Ret'])\n",
    "    \n",
    "    return pos_beta, neg_beta, pos_gamma[0], neg_gamma[0]"
   ]
  },
  {
   "cell_type": "code",
   "execution_count": 14,
   "id": "animal-garden",
   "metadata": {},
   "outputs": [],
   "source": [
    "dfs = [merged_19, merged_98]\n",
    "outdfs = []\n",
    "for df in dfs:\n",
    "    pbs = []\n",
    "    nbs = []\n",
    "    pgs = []\n",
    "    ngs = []\n",
    "    for i in range(1,6):\n",
    "        pb, nb, pg, ng = betagamma(i, df)\n",
    "        pbs.append(pb)\n",
    "        nbs.append(nb)\n",
    "        pgs.append(pg[0])\n",
    "        ngs.append(ng[0])\n",
    "    outdf = pd.DataFrame({'Positive Betas' : pbs, 'Negative Betas' : nbs, 'Positive Gammas' : pgs, 'Negative Gammas' : ngs})\n",
    "    outdf.index.rename('minutes', inplace=True)\n",
    "    outdf.index = outdf.index + 1\n",
    "    outdfs.append(outdf)"
   ]
  },
  {
   "cell_type": "markdown",
   "id": "speaking-internet",
   "metadata": {},
   "source": [
    "Output for file SH600519"
   ]
  },
  {
   "cell_type": "code",
   "execution_count": 15,
   "id": "gentle-motorcycle",
   "metadata": {},
   "outputs": [
    {
     "data": {
      "text/html": [
       "<div>\n",
       "<style scoped>\n",
       "    .dataframe tbody tr th:only-of-type {\n",
       "        vertical-align: middle;\n",
       "    }\n",
       "\n",
       "    .dataframe tbody tr th {\n",
       "        vertical-align: top;\n",
       "    }\n",
       "\n",
       "    .dataframe thead th {\n",
       "        text-align: right;\n",
       "    }\n",
       "</style>\n",
       "<table border=\"1\" class=\"dataframe\">\n",
       "  <thead>\n",
       "    <tr style=\"text-align: right;\">\n",
       "      <th></th>\n",
       "      <th>Positive Betas</th>\n",
       "      <th>Negative Betas</th>\n",
       "      <th>Positive Gammas</th>\n",
       "      <th>Negative Gammas</th>\n",
       "    </tr>\n",
       "    <tr>\n",
       "      <th>minutes</th>\n",
       "      <th></th>\n",
       "      <th></th>\n",
       "      <th></th>\n",
       "      <th></th>\n",
       "    </tr>\n",
       "  </thead>\n",
       "  <tbody>\n",
       "    <tr>\n",
       "      <th>1</th>\n",
       "      <td>0.980544</td>\n",
       "      <td>1.020623</td>\n",
       "      <td>-0.041744</td>\n",
       "      <td>1.179594e-08</td>\n",
       "    </tr>\n",
       "    <tr>\n",
       "      <th>2</th>\n",
       "      <td>0.982978</td>\n",
       "      <td>1.018402</td>\n",
       "      <td>-0.059119</td>\n",
       "      <td>9.460007e-09</td>\n",
       "    </tr>\n",
       "    <tr>\n",
       "      <th>3</th>\n",
       "      <td>0.986844</td>\n",
       "      <td>1.013896</td>\n",
       "      <td>-0.053463</td>\n",
       "      <td>2.645501e-08</td>\n",
       "    </tr>\n",
       "    <tr>\n",
       "      <th>4</th>\n",
       "      <td>0.989755</td>\n",
       "      <td>1.011497</td>\n",
       "      <td>-0.044441</td>\n",
       "      <td>1.397018e-08</td>\n",
       "    </tr>\n",
       "    <tr>\n",
       "      <th>5</th>\n",
       "      <td>0.984531</td>\n",
       "      <td>1.018049</td>\n",
       "      <td>-0.042368</td>\n",
       "      <td>1.773642e-09</td>\n",
       "    </tr>\n",
       "  </tbody>\n",
       "</table>\n",
       "</div>"
      ],
      "text/plain": [
       "         Positive Betas  Negative Betas  Positive Gammas  Negative Gammas\n",
       "minutes                                                                  \n",
       "1              0.980544        1.020623        -0.041744     1.179594e-08\n",
       "2              0.982978        1.018402        -0.059119     9.460007e-09\n",
       "3              0.986844        1.013896        -0.053463     2.645501e-08\n",
       "4              0.989755        1.011497        -0.044441     1.397018e-08\n",
       "5              0.984531        1.018049        -0.042368     1.773642e-09"
      ]
     },
     "execution_count": 15,
     "metadata": {},
     "output_type": "execute_result"
    }
   ],
   "source": [
    "outdfs[0]"
   ]
  },
  {
   "cell_type": "markdown",
   "id": "pleasant-convention",
   "metadata": {},
   "source": [
    "Output for file SH601398"
   ]
  },
  {
   "cell_type": "code",
   "execution_count": 16,
   "id": "presidential-forty",
   "metadata": {},
   "outputs": [
    {
     "data": {
      "text/html": [
       "<div>\n",
       "<style scoped>\n",
       "    .dataframe tbody tr th:only-of-type {\n",
       "        vertical-align: middle;\n",
       "    }\n",
       "\n",
       "    .dataframe tbody tr th {\n",
       "        vertical-align: top;\n",
       "    }\n",
       "\n",
       "    .dataframe thead th {\n",
       "        text-align: right;\n",
       "    }\n",
       "</style>\n",
       "<table border=\"1\" class=\"dataframe\">\n",
       "  <thead>\n",
       "    <tr style=\"text-align: right;\">\n",
       "      <th></th>\n",
       "      <th>Positive Betas</th>\n",
       "      <th>Negative Betas</th>\n",
       "      <th>Positive Gammas</th>\n",
       "      <th>Negative Gammas</th>\n",
       "    </tr>\n",
       "    <tr>\n",
       "      <th>minutes</th>\n",
       "      <th></th>\n",
       "      <th></th>\n",
       "      <th></th>\n",
       "      <th></th>\n",
       "    </tr>\n",
       "  </thead>\n",
       "  <tbody>\n",
       "    <tr>\n",
       "      <th>1</th>\n",
       "      <td>0.977000</td>\n",
       "      <td>1.020249</td>\n",
       "      <td>-0.025925</td>\n",
       "      <td>1.448812e-08</td>\n",
       "    </tr>\n",
       "    <tr>\n",
       "      <th>2</th>\n",
       "      <td>0.984426</td>\n",
       "      <td>1.013759</td>\n",
       "      <td>-0.062777</td>\n",
       "      <td>4.609944e-09</td>\n",
       "    </tr>\n",
       "    <tr>\n",
       "      <th>3</th>\n",
       "      <td>0.978098</td>\n",
       "      <td>1.019258</td>\n",
       "      <td>-0.035577</td>\n",
       "      <td>5.062150e-09</td>\n",
       "    </tr>\n",
       "    <tr>\n",
       "      <th>4</th>\n",
       "      <td>0.982108</td>\n",
       "      <td>1.015885</td>\n",
       "      <td>-0.042953</td>\n",
       "      <td>3.170110e-08</td>\n",
       "    </tr>\n",
       "    <tr>\n",
       "      <th>5</th>\n",
       "      <td>0.984436</td>\n",
       "      <td>1.014209</td>\n",
       "      <td>-0.041945</td>\n",
       "      <td>3.059483e-08</td>\n",
       "    </tr>\n",
       "  </tbody>\n",
       "</table>\n",
       "</div>"
      ],
      "text/plain": [
       "         Positive Betas  Negative Betas  Positive Gammas  Negative Gammas\n",
       "minutes                                                                  \n",
       "1              0.977000        1.020249        -0.025925     1.448812e-08\n",
       "2              0.984426        1.013759        -0.062777     4.609944e-09\n",
       "3              0.978098        1.019258        -0.035577     5.062150e-09\n",
       "4              0.982108        1.015885        -0.042953     3.170110e-08\n",
       "5              0.984436        1.014209        -0.041945     3.059483e-08"
      ]
     },
     "execution_count": 16,
     "metadata": {},
     "output_type": "execute_result"
    }
   ],
   "source": [
    "outdfs[1]"
   ]
  },
  {
   "cell_type": "code",
   "execution_count": null,
   "id": "incredible-blend",
   "metadata": {},
   "outputs": [],
   "source": []
  }
 ],
 "metadata": {
  "kernelspec": {
   "display_name": "Python 3",
   "language": "python",
   "name": "python3"
  },
  "language_info": {
   "codemirror_mode": {
    "name": "ipython",
    "version": 3
   },
   "file_extension": ".py",
   "mimetype": "text/x-python",
   "name": "python",
   "nbconvert_exporter": "python",
   "pygments_lexer": "ipython3",
   "version": "3.9.1"
  }
 },
 "nbformat": 4,
 "nbformat_minor": 5
}
